{
 "cells": [
  {
   "cell_type": "markdown",
   "id": "0354ac55-96cc-47ff-9948-bd0bdbb7205c",
   "metadata": {},
   "source": [
    "# Ejercicio N° 2 - Titulo"
   ]
  },
  {
   "cell_type": "markdown",
   "id": "12c42495-a023-4f0a-ae47-55991319e318",
   "metadata": {},
   "source": [
    "# H1: Data Science Tools and Ecosystem"
   ]
  },
  {
   "cell_type": "markdown",
   "id": "2a86c25a-0dcb-424d-8adc-699af4e5eb06",
   "metadata": {},
   "source": [
    "###### In this notebook, Data Science Tools and Ecosystem are summarized."
   ]
  },
  {
   "cell_type": "markdown",
   "id": "cf2b62fc-704a-4e5d-9135-e670b1fabbb8",
   "metadata": {},
   "source": [
    "**Objectives:**\n",
    "\n",
    "- Learn the types of titles.\n",
    "+ Use of bold\n",
    "* Construction of tables\n",
    "- Creating vignettes\n",
    "- mathematical calculations"
   ]
  },
  {
   "cell_type": "markdown",
   "id": "256da9f9-2470-4174-974e-d03ce919a5ce",
   "metadata": {},
   "source": [
    "###### Some of the popular languages that Data Scientists use are:\n",
    "1. Python\n",
    "2. R\n",
    "3. SQL\n",
    "4. Julia"
   ]
  },
  {
   "cell_type": "markdown",
   "id": "7be07152-e7de-4656-a598-9304ffd8d54a",
   "metadata": {},
   "source": [
    "###### Some of the commonly used libraries used by Data Scientists include:\n",
    "\n",
    "1. Pandas\n",
    "2. NumPy\n",
    "3. ggplot2\n",
    "4. TensorFlow"
   ]
  },
  {
   "cell_type": "markdown",
   "id": "ff4e501c-f4c8-4dd4-9907-0225aa2c2d3a",
   "metadata": {},
   "source": [
    "| Data Science Tools |\n",
    "|------------------------|\n",
    "|1. Jupyter Notebook|\n",
    "|2. RStudio|\n",
    "|3. Apache Zeppelin|"
   ]
  },
  {
   "cell_type": "markdown",
   "id": "3c65206b-8d39-489e-b9df-4f6ae35fb31f",
   "metadata": {},
   "source": [
    "### Below are a few examples of evaluating arithmetic expressions in Python"
   ]
  },
  {
   "cell_type": "code",
   "execution_count": 62,
   "id": "a3753e77-d397-4391-8640-94ae8542f136",
   "metadata": {},
   "outputs": [
    {
     "data": {
      "text/plain": [
       "17"
      ]
     },
     "execution_count": 62,
     "metadata": {},
     "output_type": "execute_result"
    }
   ],
   "source": [
    "# This a simple arithmetic expression to mutiply then add integers\n",
    "\n",
    "(3*4)+5"
   ]
  },
  {
   "cell_type": "code",
   "execution_count": 64,
   "id": "fd92e81b-74d5-41d4-94f7-b9181cc2cfc9",
   "metadata": {},
   "outputs": [
    {
     "data": {
      "text/plain": [
       "3.3333333333333335"
      ]
     },
     "execution_count": 64,
     "metadata": {},
     "output_type": "execute_result"
    }
   ],
   "source": [
    "# This will convert 200 minutes to hours by diving by 60\n",
    "\n",
    "(200/60)"
   ]
  },
  {
   "cell_type": "markdown",
   "id": "9e0f0911-2d78-43e4-ae43-36e309eb8a4f",
   "metadata": {},
   "source": [
    "## Author\n",
    "Victor Vergara"
   ]
  }
 ],
 "metadata": {
  "kernelspec": {
   "display_name": "Python 3 (ipykernel)",
   "language": "python",
   "name": "python3"
  },
  "language_info": {
   "codemirror_mode": {
    "name": "ipython",
    "version": 3
   },
   "file_extension": ".py",
   "mimetype": "text/x-python",
   "name": "python",
   "nbconvert_exporter": "python",
   "pygments_lexer": "ipython3",
   "version": "3.12.4"
  }
 },
 "nbformat": 4,
 "nbformat_minor": 5
}
